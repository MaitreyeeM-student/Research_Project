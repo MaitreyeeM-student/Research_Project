{
 "cells": [
  {
   "cell_type": "code",
   "execution_count": 2,
   "id": "4308159e-6ccd-4641-a7c1-8e1dc4f8da40",
   "metadata": {},
   "outputs": [
    {
     "name": "stderr",
     "output_type": "stream",
     "text": [
      "/home/ec2-user/anaconda3/envs/python3/lib/python3.10/site-packages/pandas/core/computation/expressions.py:21: UserWarning: Pandas requires version '2.8.4' or newer of 'numexpr' (version '2.7.3' currently installed).\n",
      "  from pandas.core.computation.check import NUMEXPR_INSTALLED\n"
     ]
    }
   ],
   "source": [
    "import shap\n",
    "import boto3\n",
    "import json\n",
    "import joblib\n",
    "import numpy as np\n",
    "from datetime import datetime\n",
    "import time\n",
    "import io\n",
    "import logging\n",
    "import pickle\n",
    "import pandas as pd\n",
    "import shap"
   ]
  },
  {
   "cell_type": "code",
   "execution_count": 3,
   "id": "5bb5eba5-088b-4548-a64f-9fea88f9c922",
   "metadata": {},
   "outputs": [],
   "source": [
    "# Set up CloudWatch Logs\n",
    "logger = logging.getLogger()\n",
    "logger.setLevel(logging.INFO)\n",
    "\n",
    "start_time = time.time()\n",
    "\n",
    "# Initialize boto3 S3 client\n",
    "s3_client = boto3.client('s3')\n",
    "\n",
    "\n",
    "bucket_name = 'zero-trust-ml-dataset'\n",
    "model_key = 'models/svm_pipeline.pkl'  \n",
    "X_train_key = 'X_train_ext.csv'\n",
    "X_test_key = 'X_test_ext.csv'\n",
    "y_train_key = 'y_train_ext.csv'\n",
    "y_test_key = 'y_test_ext.csv'\n",
    "\n",
    "\n",
    "model_obj = s3_client.get_object(Bucket=bucket_name, Key=model_key)\n",
    "model_data = model_obj['Body'].read()  \n",
    "\n",
    "\n",
    "svm_pipeline = joblib.load(io.BytesIO(model_data))\n",
    "\n",
    "logger.info(f\"[Model] Model loaded directly from S3\")\n",
    "\n",
    "# Function to load CSV data from S3\n",
    "def load_csv_from_s3(bucket, key):\n",
    "    obj = s3_client.get_object(Bucket=bucket, Key=key)\n",
    "    return pd.read_csv(obj['Body'])\n",
    "\n",
    "# Download the CSV data from S3\n",
    "X_train_bin = load_csv_from_s3(bucket_name, X_train_key)\n",
    "X_test_bin = load_csv_from_s3(bucket_name, X_test_key)\n",
    "y_train_bin = load_csv_from_s3(bucket_name, y_train_key)\n",
    "y_test_bin = load_csv_from_s3(bucket_name, y_test_key)\n",
    "\n",
    "logger.info(f\"[Data] Datasets loaded from S3: X_train={X_train_bin.shape}, X_test={X_test_bin.shape}\")"
   ]
  },
  {
   "cell_type": "code",
   "execution_count": 4,
   "id": "42b1bca6-d844-4e17-aa94-71f8e1439e69",
   "metadata": {},
   "outputs": [
    {
     "data": {
      "application/vnd.jupyter.widget-view+json": {
       "model_id": "6198c0c611a544f1867425445e512d5d",
       "version_major": 2,
       "version_minor": 0
      },
      "text/plain": [
       "  0%|          | 0/1 [00:00<?, ?it/s]"
      ]
     },
     "metadata": {},
     "output_type": "display_data"
    }
   ],
   "source": [
    "background_data = shap.sample(X_train_bin, 1)\n",
    "explainer = shap.KernelExplainer(svm_pipeline.predict_proba, background_data)\n",
    "\n",
    "sample_data = X_test_bin[0:1]\n",
    "\n",
    "# SHAP value calculation\n",
    "shap_values = explainer.shap_values(sample_data)\n",
    "\n",
    "logger.info(f\"[SHAP] SHAP values for the sample: {shap_values}\")"
   ]
  },
  {
   "cell_type": "code",
   "execution_count": 5,
   "id": "738faae0-6b39-4feb-9dac-aa4bd0b6806d",
   "metadata": {},
   "outputs": [],
   "source": [
    "# Load the datasets\n",
    "X_train_bin = load_csv_from_s3(bucket_name, X_train_key)\n",
    "X_test_bin = load_csv_from_s3(bucket_name, X_test_key)\n",
    "y_train_bin = load_csv_from_s3(bucket_name, y_train_key)\n",
    "y_test_bin = load_csv_from_s3(bucket_name, y_test_key)\n",
    "\n",
    "logger.info(f\"[Data] Datasets loaded from S3: {X_train_bin.shape}, {X_test_bin.shape}\")"
   ]
  },
  {
   "cell_type": "code",
   "execution_count": 6,
   "id": "0aa6efd7-973a-439f-a5a3-133cde6a5a35",
   "metadata": {},
   "outputs": [],
   "source": [
    "simulated_probability = 0.9  #define threat level\n",
    "threat_level = round(0.1 + (0.9 * simulated_probability), 2)  \n",
    "\n",
    "assert threat_level > 0.8, \"Simulated threat level is not high enough.\"\n",
    "\n",
    "logger.info(f\"[SHAP] Threat level calculated as: {threat_level} based on simulated probability of {simulated_probability}\")\n",
    "\n",
    "\n",
    "logger.info(f\"[SHAP] Explanation of threat level {threat_level}:\")\n",
    "for i, feature in enumerate(feature_names):\n",
    "    feature_impact = shap_values[0][i]\n",
    "    if isinstance(feature_impact, np.ndarray):\n",
    "        feature_impact = feature_impact[0]\n",
    "    logger.info(f\"[SHAP] Feature '{feature}' contributed {feature_impact:.3f} to the model prediction\")"
   ]
  },
  {
   "cell_type": "code",
   "execution_count": 7,
   "id": "c2990b7f-7b98-429a-b564-522b055490b5",
   "metadata": {},
   "outputs": [
    {
     "name": "stderr",
     "output_type": "stream",
     "text": [
      "/home/ec2-user/anaconda3/envs/python3/lib/python3.10/site-packages/sklearn/utils/validation.py:2742: UserWarning: X has feature names, but StandardScaler was fitted without feature names\n",
      "  warnings.warn(\n"
     ]
    }
   ],
   "source": [
    "def policy_action(threat_score):\n",
    "    if threat_score < 0.5:\n",
    "        return \"Allow\"\n",
    "    elif 0.5 <= threat_score < 0.8:\n",
    "        return \"Require MFA\"\n",
    "    else:\n",
    "        return \"Revoke/Terminate Session\"\n",
    "\n",
    "# action based on threat level\n",
    "action = policy_action(threat_level)\n",
    "\n",
    "simulated_threat_data = {\n",
    "    'threat_level': threat_level,\n",
    "    'user_id': 'user123',\n",
    "    'prediction': svm_pipeline.predict(X_test_bin[0:1])[0],  # Get the prediction\n",
    "    'shap_values': shap_values[0].tolist(),\n",
    "    'recommended_action': action\n",
    "}\n",
    "\n",
    "logger.info(f\"[SHAP] Simulated threat data: {simulated_threat_data}\")\n",
    "\n"
   ]
  },
  {
   "cell_type": "code",
   "execution_count": 8,
   "id": "d75709b2-8ea6-469b-949f-a7ab848c3bcf",
   "metadata": {},
   "outputs": [
    {
     "name": "stderr",
     "output_type": "stream",
     "text": [
      "/home/ec2-user/anaconda3/envs/python3/lib/python3.10/site-packages/sklearn/utils/validation.py:2742: UserWarning: X has feature names, but StandardScaler was fitted without feature names\n",
      "  warnings.warn(\n"
     ]
    }
   ],
   "source": [
    "# Get the prediction (svm_pipeline)\n",
    "prediction = svm_pipeline.predict(X_test_bin[0:1])[0]  \n",
    "\n",
    "simulated_threat_data = {\n",
    "    'threat_level': threat_level,  \n",
    "    'user_id': 'user123',\n",
    "    'prediction': prediction,  \n",
    "    'shap_values': shap_values[0].tolist(),  \n",
    "    'recommended_action': action \n",
    "}\n",
    "\n",
    "logger.info(f\"[SHAP] Simulated threat data: {simulated_threat_data}\")\n"
   ]
  },
  {
   "cell_type": "code",
   "execution_count": 9,
   "id": "3fb821da-1a43-4d68-9644-dcbbbb4a95cc",
   "metadata": {},
   "outputs": [],
   "source": [
    "# Convert numpy.int64 \n",
    "def convert_to_native_types(obj):\n",
    "    if isinstance(obj, np.int64):\n",
    "        return int(obj)\n",
    "    elif isinstance(obj, np.float64):\n",
    "        return float(obj)\n",
    "    elif isinstance(obj, list):\n",
    "        return [convert_to_native_types(i) for i in obj]\n",
    "    elif isinstance(obj, dict):\n",
    "        return {key: convert_to_native_types(value) for key, value in obj.items()}\n",
    "    return obj\n",
    "\n",
    "\n",
    "simulated_threat_data = convert_to_native_types(simulated_threat_data)\n",
    "\n",
    "lambda_client = boto3.client('lambda')\n",
    "\n",
    "\n",
    "def invoke_lambda(threat_data):\n",
    "    response = lambda_client.invoke(\n",
    "        FunctionName='External-test',  \n",
    "        InvocationType='Event',  \n",
    "        Payload=json.dumps(threat_data)  \n",
    "    )\n",
    "    logger.info(f\"[SHAP] Lambda invoked: {response}\")  \n",
    "\n",
    "# Trigger the Lambda \n",
    "invoke_lambda(simulated_threat_data)\n",
    "\n",
    "end_time = time.time()\n",
    "logger.info(f\"[SHAP] Time for simulation: {end_time - start_time:.2f} seconds\")\n",
    "\n",
    "dt = datetime.now()\n",
    "logger.info(f\"[SHAP] Current system time: {dt}\")"
   ]
  },
  {
   "cell_type": "code",
   "execution_count": null,
   "id": "e7481b2b-ab71-4643-bb78-612ad53410d1",
   "metadata": {},
   "outputs": [],
   "source": []
  }
 ],
 "metadata": {
  "kernelspec": {
   "display_name": "conda_python3",
   "language": "python",
   "name": "conda_python3"
  },
  "language_info": {
   "codemirror_mode": {
    "name": "ipython",
    "version": 3
   },
   "file_extension": ".py",
   "mimetype": "text/x-python",
   "name": "python",
   "nbconvert_exporter": "python",
   "pygments_lexer": "ipython3",
   "version": "3.10.18"
  }
 },
 "nbformat": 4,
 "nbformat_minor": 5
}
